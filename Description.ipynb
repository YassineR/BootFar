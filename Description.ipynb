{
 "cells": [
  {
   "cell_type": "markdown",
   "id": "6a82e9b1",
   "metadata": {},
   "source": [
    "# Opportunité de Démontrer Mes Compétences :\n",
    "\n",
    "Je tiens à souligner la chance que représente l'opportunité de mettre en avant mes compétences à travers ce projet, bien que le temps dont j'ai pu disposer ait été limité. Sur les deux semaines allouées, j'ai eu l'opportunité de travailler activement sur cette problématique pendant seulement cinq jours en raison d'engagements personnels, notamment des vacances planifiées. Néanmoins, j'ai consacré chaque moment disponible pour avancer dans la résolution du problème, explorant différentes approches et effectuant des tests pour affiner la solution. Ce petit projet s'est avéré extrêmement intéressant et plaisant, m'offrant une opportunité précieuse d'explorer des techniques novatrices en intelligence artificielle. Tout retour, même succinct, sur le travail accompli serait grandement apprécié, contribuant ainsi à ma compréhension et à mon apprentissage continu. Merci par avance pour votre compréhension et considération.\n",
    "\n",
    "# Sommaire\n",
    "\n",
    "1. [Contexte et Problématique](#contexte-et-problématique)\n",
    "   - [Aspects Temporels](#aspects-temporels)\n",
    "   - [Paires Action-Norme Cohérentes](#paires-action-norme-cohérentes)\n",
    "   - [Construction de Matchs Cohérents](#construction-de-matchs-cohérents)\n",
    "2. [Solutions Techniques](#solutions-techniques)\n",
    "   - [Dynamique Temporelle](#dynamique-temporelle)\n",
    "   - [Création de Paires Cohérentes](#création-de-paires-cohérentes)\n",
    "   - [Construction de Matchs Significatifs](#construction-de-matchs-significatifs)\n",
    "   - [Détermination du Style de Jeu](#détermination-du-style-de-jeu)\n",
    "3. [Processus d'Assemblage](#processus-dassemblage)\n",
    "4. [Limitations](#limitations)\n",
    "5. [Étapes Futures](#étapes-futures)\n",
    "6. [Installation]\n",
    "7. [Execution\n",
    "\n",
    "\n",
    "# Contexte et Problématique :\n",
    "\n",
    "Je dispose de données représentant deux matchs de football. Pour chaque match, j'ai des fichiers JSON suivant le format \"action : **A**, norme : [..., **k**, ...]\". Ici, **A** représente les actions des joueurs et **k** les valeurs d'accélération capturées par des capteurs montés au niveau des genoux.\n",
    "\n",
    "Le problème peut être divisé en trois sous-questions :\n",
    "\n",
    "- **Aspects Temporels : ** Comment gérer la dynamique temporelle des matchs de football ?\n",
    "- **Paires Action-Norme Cohérentes :** Comment créer des paires action-norme cohérentes où les valeurs d'accélération représentent avec précision les actions des joueurs ?\n",
    "- **Construction de Matchs Cohérents :** Comment assembler ces paires en matchs de football significatifs et cohérents ? De plus, il y a une question bonus : comment déterminer le style de jeu (offensif, défensif ou équilibré) ?\n",
    "\n",
    "**Solutions Techniques :**\n",
    "\n",
    "1. **Dynamique Temporelle :** Étant donné que les données d'accéléromètre sont essentiellement des séries temporelles, j'ai exploré deux solutions spécifiques : TimeGAN et DoppelGANger. Ce sont des modèles d'IA générative conçus pour reproduire des données temporelles basées sur des ensembles de données existants. Après avoir examiné des articles de recherche, j'ai opté pour DoppelGANger en raison de sa performance supérieure.\n",
    "Cette génération de time series est contrôlable : en choisissant le nombre de séries à générer, nous pouvons facilement choisir la durée du match.\n",
    "\n",
    "2. **Création de Paires Cohérentes :** DoppelGANger abordait théoriquement la génération de paires action-norme. Cependant, l'implémentation pratique a révélé des résultats insatisfaisants en raison du petit jeu de données (seulement deux matchs). La performance de ce modèle s'améliore avec un jeu de données plus important, qui faisait défaut dans notre cas.\n",
    "Une tentative a été de faire de la data augmentation, en créant des translations vertical (pour garder la forme) aléatoire de nos times séries. \n",
    "\n",
    "3. **Construction de Matchs Significatifs :** Pour garantir la génération cohérente de matchs, j'ai envisagé deux approches. Premièrement, en utilisant le hasard tout en respectant une distribution spécifique des actions. Cependant, cette approche manquait de fiabilité. Deuxièmement, j'ai exploré l'utilisation de réseaux neuronaux récurrents (RNN) ou de réseaux LSTM (mémoire à court terme à longue) qui excellent dans la génération de séquences, les rendant adaptés à la création de matchs cohérents et significatifs. Malheureusement, après quelques tests, je me suis rapidement aperçu que l'entrainement n'étais pas suffisant. Je me suis donc rabattu sur mon idée d'aléatoire suivant une distribution.\n",
    "\n",
    "4. **Détermination du Style de Jeu :** Il existe une méthode potentielle pour influencer les sorties LSTM avec des entrées spécifiques, bien que cela reste non testé en raison des limitations rencontrées lors de l'implémentation. Cependant, en utilisant et modifiant la distribution des actions, il est possible d'influer sur le style du match. \n",
    "\n",
    "**Processus d'Assemblage :**\n",
    "\n",
    "Dans un scénario de production, le processus impliquerait la génération des actions de match en utilisant LSTM pour déterminer le style de match. Ensuite, DoppelGANger générerait les normes d'accélération associées.\n",
    "\n",
    "**Limitations :**\n",
    "- L'implémentation de DoppelGANger ne permet pas de choisir l'étiquette de sortie, limitant ainsi la génération directe de paires action-norme. Pour contourner cela, j'ai choisi de créer un \"pool\" de paires assez large, dans lequel je vais piocher afin de construire mon match, en me basant sur la distribution indiquée. \n",
    "\n",
    "- La librairie gère les entrées avec des longueurs différentes, mais ne permet **pas encore** de générer des sorties différentes. Ceci rend les résultats assez linéaires, et non réaliste.\n",
    "\n",
    "- Le nombre de données étant assez faible, et malgré la data augmentation réalisée, les résultats de DoppelGANger sont insuffisants. Un travail sur les (hyper)paramètres pourraient être réalisé pour améliorer nos résultats.\n",
    "\n",
    "\n",
    "**Étapes Futures :**\n",
    "- Rechercher des solutions de contournement ou des méthodes alternatives pour résoudre la limitation de l'étiquette de DoppelGANger.\n",
    "- Explorer des techniques avancées ou des méthodes d'ensemble pour améliorer la précision et la fiabilité des matchs générés.\n",
    "- Développer des critères d'évaluation pour évaluer la qualité des données de match générées.\n",
    "- Il serait intéressant d'avoir d'autres données, comme par exemple le rôle du joueur dans l'équipe, son genre, poids, taille ou idéalement son style de jeu (plutôt karting ou formule1 ? Cyborg ou tortue ninja ?)\n",
    "- Optimisation des modèles (cross validation / hyperparamètres)\n",
    "- Réaliser du post-processing afin de corriger certaines valeurs (valeurs négatives ou extrêmes, par exemple)\n"
   ]
  },
  {
   "cell_type": "code",
   "execution_count": null,
   "id": "25339db9",
   "metadata": {},
   "outputs": [],
   "source": []
  },
  {
   "cell_type": "code",
   "execution_count": null,
   "id": "d0291ba5",
   "metadata": {},
   "outputs": [],
   "source": []
  },
  {
   "cell_type": "code",
   "execution_count": null,
   "id": "d87f89b3",
   "metadata": {},
   "outputs": [],
   "source": []
  },
  {
   "cell_type": "code",
   "execution_count": null,
   "id": "691913d9",
   "metadata": {},
   "outputs": [],
   "source": []
  },
  {
   "cell_type": "markdown",
   "id": "fc375009",
   "metadata": {},
   "source": [
    "# Contexte et problématique\n",
    "Je dispose de données représentant 2 matchs.  \n",
    "Pour chaque match, je posséde un json suivant le format \"action : **A**, norm : [...,**k**,...] \"\n",
    "**A** sont des actions faite par un joueur, et **k** les valeurs d'accéleration du capteur positionnée au niveau du genoux.  \n",
    "\n",
    "On souhaite, à partir de ces données, recréer des matchs.\n",
    "La problématique peut être coupés en 3 sous questions :  \n",
    "- temporalité des matchs\n",
    "- Il faut pouvoir recréer des duos action-norm, avec des norm qui représentent bien l'action\n",
    "- Pouvoir rattacher ces duos afin de constituer un match qui a du sens\n",
    "- en bonus, choisir le sens du match (par exemple  offensif, defensif ou equilibre)\n",
    "\n",
    "# Solutions techniques\n",
    "Nos données d'accelerometre sont des séries temporelles. Il a donc fallu trouver une solution spéficique à cela.\n",
    "J'en ai trouvé 2 : TimeGAN, et doppelGANger. Ce sont 2 modéles d'IA générative, permettant de (re)produire des times-series en s'entrainant sur des données existantes.\n",
    "D'aprés son papier de recherche, DoppelGANger est plus puissant que TimeGAN. \n",
    "Il existe 2 librairies implémentant le modéle (Gretel.ai, et ydata-synthetics). Malheureusement, DoppelGANger étant assez récent, il manque encore des fonctionnalités a ces librairies.  \n",
    "ydata ne permet pas de travailler sur des données au format 'wide', càd avec notre temporalité en colonne.\n",
    "Gretel est plus développer, et permet le format wide.\n",
    "Malheureusement, étant très récente, il manque encore des fonctionnalités, et des bugs existent. Notamment sur Windows, sur lequel Gretel n'assure (pas encore) le support.\n",
    "J'ai donc du travailler sur une machinue virtuelle linux (Ubuntu)\n",
    "\n",
    "DoppelGANger me permet de répondre en théorie à la premiere question, en recréant des duos action-norm.\n",
    "En pratique, on remarque très rapidement qu'avec les données actuelles, les résultats ne sont pas satisfaisant. \n",
    "Ce modéle est d'autant plus performant qu'il a de données, et 2 matchs ne semblent pas suffisant.\n",
    "\n",
    "2/ temporalité \n",
    "Gretel gére les entrées à longueur variable, mais ne permet pas (encore) de génrérer des sorties à longueur variable.\n",
    "Nous avons donc des norm à longueur fixes, et sachant que 50 données correspondent à 1 seconde, nous pouvons facilement choisir  la durée d'un match, en générant X duo\n",
    "\n",
    "3/ Avoir du sens\n",
    "Pour construire un match qui a du sens, une premiére idée serait d'utiliser l'aléatoire, tout en respectant une certaine distribution des actions\n",
    "Avec cette solution, les matchs pourraient avoir du sens, ou peut être pas. En somme, la solution n'est pas assez fiable.\n",
    "Une 2e idée est d'utiliser encore une fois de l'IA, et notamment des modéles type RNN ou LSTM.\n",
    "Ces modéles permettent notamment de (re)créer des sequences. On peut ainsi, à partir de matchs, générer de nouveaux matchs qui ont du sens. \n",
    "\n",
    "4/ Choisir le sens\n",
    "Il semblerait qu'il est possible d'influencer les données de sorties du LSTM, avec des entrée bien spécifiques. Mais comme je n'ai pas pu tester cette solution, je ne peux entrer dans les détails ni dire si cela marche bien pour notre cas.\n",
    "\n",
    "\n",
    "5/ Assemblement\n",
    "\n",
    "En production le processus serait celui la :\n",
    "\n",
    "Génération des actions du matchs, avec le LSTM => le sens\n",
    "\n",
    "Avec les actions, nous générons grâce à DoppelGANger les norms associés \n",
    "\n",
    "Conclusion : \n",
    "\n",
    "limitations : \n",
    "\n",
    "Que faire de plus :\n",
    "\n",
    "\n",
    "Gretel ne permet pas de choisir le label de sortie.\n",
    "\n"
   ]
  },
  {
   "cell_type": "markdown",
   "id": "83aa3f8a",
   "metadata": {},
   "source": [
    "# "
   ]
  }
 ],
 "metadata": {
  "kernelspec": {
   "display_name": "Python 3 (ipykernel)",
   "language": "python",
   "name": "python3"
  },
  "language_info": {
   "codemirror_mode": {
    "name": "ipython",
    "version": 3
   },
   "file_extension": ".py",
   "mimetype": "text/x-python",
   "name": "python",
   "nbconvert_exporter": "python",
   "pygments_lexer": "ipython3",
   "version": "3.9.0"
  },
  "varInspector": {
   "cols": {
    "lenName": 16,
    "lenType": 16,
    "lenVar": 40
   },
   "kernels_config": {
    "python": {
     "delete_cmd_postfix": "",
     "delete_cmd_prefix": "del ",
     "library": "var_list.py",
     "varRefreshCmd": "print(var_dic_list())"
    },
    "r": {
     "delete_cmd_postfix": ") ",
     "delete_cmd_prefix": "rm(",
     "library": "var_list.r",
     "varRefreshCmd": "cat(var_dic_list()) "
    }
   },
   "types_to_exclude": [
    "module",
    "function",
    "builtin_function_or_method",
    "instance",
    "_Feature"
   ],
   "window_display": false
  }
 },
 "nbformat": 4,
 "nbformat_minor": 5
}
